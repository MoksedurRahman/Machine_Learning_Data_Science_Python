{
 "cells": [
  {
   "cell_type": "code",
   "execution_count": 14,
   "metadata": {},
   "outputs": [],
   "source": [
    "# Class\n",
    "class Mobile:\n",
    "    # Features or Class Variables\n",
    "    weight = '64 GB'\n",
    "    color = 'blue'\n",
    "    size = '6X3 inch'\n",
    "    messages='Hiiiii'\n",
    "\n",
    "    # Construction\n",
    "    def __init__(self,name):\n",
    "        self.name = name\n",
    "        print(\"Initialized!\")\n",
    "\n",
    "    # behaviours or Methods\n",
    "    def message(self):\n",
    "        return f\"{self.messages} This is message from function\""
   ]
  },
  {
   "cell_type": "code",
   "execution_count": 15,
   "metadata": {},
   "outputs": [
    {
     "name": "stdout",
     "output_type": "stream",
     "text": [
      "Initialized!\n"
     ]
    },
    {
     "data": {
      "text/plain": [
       "'Hiiiii This is message from function'"
      ]
     },
     "execution_count": 15,
     "metadata": {},
     "output_type": "execute_result"
    }
   ],
   "source": [
    "# Object Creation\n",
    "msg = Mobile(\"Samsung\")\n",
    "# Accessing Variables\n",
    "msg.color, msg.weight, msg.size\n",
    "#Accessing Methids\n",
    "msg.message()"
   ]
  }
 ],
 "metadata": {
  "interpreter": {
   "hash": "63fd5069d213b44bf678585dea6b12cceca9941eaf7f819626cde1f2670de90d"
  },
  "kernelspec": {
   "display_name": "Python 3.9.7 64-bit",
   "name": "python3"
  },
  "language_info": {
   "codemirror_mode": {
    "name": "ipython",
    "version": 3
   },
   "file_extension": ".py",
   "mimetype": "text/x-python",
   "name": "python",
   "nbconvert_exporter": "python",
   "pygments_lexer": "ipython3",
   "version": "3.9.7"
  },
  "orig_nbformat": 4
 },
 "nbformat": 4,
 "nbformat_minor": 2
}
