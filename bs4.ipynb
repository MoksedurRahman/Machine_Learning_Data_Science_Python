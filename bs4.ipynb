{
 "cells": [
  {
   "cell_type": "code",
   "execution_count": 2,
   "metadata": {},
   "outputs": [],
   "source": [
    "import requests\n",
    "from bs4 import BeautifulSoup"
   ]
  },
  {
   "cell_type": "code",
   "execution_count": null,
   "metadata": {},
   "outputs": [],
   "source": [
    "res = requests.get(r'https://jobs.bdjobs.com/jobsearch.asp?fcatId=8')\n",
    "res.text"
   ]
  },
  {
   "cell_type": "code",
   "execution_count": null,
   "metadata": {},
   "outputs": [],
   "source": [
    "page = BeautifulSoup(res.content,'lxml')\n",
    "page"
   ]
  },
  {
   "cell_type": "code",
   "execution_count": null,
   "metadata": {},
   "outputs": [],
   "source": [
    "page.find_all('div')"
   ]
  },
  {
   "cell_type": "code",
   "execution_count": null,
   "metadata": {},
   "outputs": [],
   "source": [
    "response.content"
   ]
  },
  {
   "cell_type": "code",
   "execution_count": 40,
   "metadata": {},
   "outputs": [
    {
     "ename": "NameError",
     "evalue": "name 'job' is not defined",
     "output_type": "error",
     "traceback": [
      "\u001b[1;31m---------------------------------------------------------------------------\u001b[0m",
      "\u001b[1;31mNameError\u001b[0m                                 Traceback (most recent call last)",
      "\u001b[1;32m~\\AppData\\Local\\Temp/ipykernel_14656/4115487557.py\u001b[0m in \u001b[0;36m<module>\u001b[1;34m\u001b[0m\n\u001b[1;32m----> 1\u001b[1;33m \u001b[0mjob\u001b[0m\u001b[1;33m-\u001b[0m\u001b[0mtitle\u001b[0m\u001b[1;33m-\u001b[0m\u001b[0mtext\u001b[0m\u001b[1;33m.\u001b[0m\u001b[0mlink\u001b[0m\u001b[1;33m.\u001b[0m\u001b[0mattrs\u001b[0m\u001b[1;33m[\u001b[0m\u001b[1;34m'href'\u001b[0m\u001b[1;33m]\u001b[0m\u001b[1;33m\u001b[0m\u001b[1;33m\u001b[0m\u001b[0m\n\u001b[0m",
      "\u001b[1;31mNameError\u001b[0m: name 'job' is not defined"
     ]
    }
   ],
   "source": [
    "job-title-text.link.attrs['href']"
   ]
  },
  {
   "cell_type": "code",
   "execution_count": null,
   "metadata": {},
   "outputs": [],
   "source": [
    "for link in page.findAll('link'):\n",
    "    print(link.attrs['href'])"
   ]
  },
  {
   "cell_type": "code",
   "execution_count": 18,
   "metadata": {},
   "outputs": [],
   "source": [
    "for link in page.findAll('a', class_=\"tag\"):\n",
    "    print(link.attrs['href'])"
   ]
  },
  {
   "cell_type": "code",
   "execution_count": null,
   "metadata": {},
   "outputs": [],
   "source": [
    "\n",
    "for link in page.findAll('a', attrs={'href':\"/tag/adulthood/page/1/\"}):\n",
    "    print(link.attrs['href'])"
   ]
  },
  {
   "cell_type": "code",
   "execution_count": 53,
   "metadata": {},
   "outputs": [
    {
     "name": "stdout",
     "output_type": "stream",
     "text": [
      "[<div class=\"comp-name-text\">\n",
      "<!-- উপায় (UCB Fintech Company Limited) -->\n",
      "<!-- Kite Games Studio Ltd. -->\n",
      "                                                Kite Games Studio Ltd.\n",
      "                                            </div>]\n",
      "[<div class=\"comp-name-text\">\n",
      "<!-- উপায় (UCB Fintech Company Limited) -->\n",
      "<!-- Nori Technology -->\n",
      "                                                Nori Technology\n",
      "                                            </div>]\n"
     ]
    }
   ],
   "source": [
    "for link1 in page.findAll('div', class_='sout-jobs-wrapper'):\n",
    "    print(link1.findAll('div', class_='comp-name-text'))\n"
   ]
  },
  {
   "cell_type": "code",
   "execution_count": 50,
   "metadata": {},
   "outputs": [
    {
     "data": {
      "text/plain": [
       "<div class=\"sout-jobs-wrapper\" onclick=\"DivOpen('id=1017461&amp;fcatId=8&amp;ln=1');\">\n",
       "<div class=\"row\">\n",
       "<div class=\"col-sm-3 col-sm-push-3\">\n",
       "<div class=\"row\">\n",
       "<div class=\"col-sm-12\">\n",
       "<div class=\"comp_logo\"><img alt=\"logo of Kite Games Studio Ltd.\" src=\"//corporate.bdjobs.com/logos/41982.jpg\"/></div>\n",
       "</div>\n",
       "</div>\n",
       "</div>\n",
       "<div class=\"col-sm-9 col-sm-pull-9\">\n",
       "<div class=\"row\">\n",
       "<div class=\"col-sm-12\">\n",
       "<div class=\"job-title-text\">\n",
       "<a href=\"jobdetails.asp?id=1017461&amp;fcatId=8&amp;ln=1\" onclick=\"clickJObTitle()\" target=\"_blank\">\n",
       "                                                    Jr. Software Engineer (Competitive Programmer)\n",
       "                                                </a>\n",
       "</div>\n",
       "</div>\n",
       "<div class=\"col-sm-12\">\n",
       "<div class=\"comp-name-text\">\n",
       "<!-- উপায় (UCB Fintech Company Limited) -->\n",
       "<!-- Kite Games Studio Ltd. -->\n",
       "                                                Kite Games Studio Ltd.\n",
       "                                            </div>\n",
       "</div>\n",
       "<div class=\"col-sm-12\">\n",
       "<div class=\"locon-text\">\n",
       "<div class=\"row\">\n",
       "<div class=\"col-sm-12\">\n",
       "<div class=\"locon-text-d\">\n",
       "<img alt=\"Job Location\" src=\"images/Location.svg\"/>Dhaka</div>\n",
       "</div>\n",
       "</div>\n",
       "</div>\n",
       "</div>\n",
       "<div class=\"col-sm-12\">\n",
       "<div class=\"edu-text\">\n",
       "<div class=\"edu-text-d\">\n",
       "<img alt=\"Education required\" src=\"images/Edu-cap.svg\"/>\n",
       "<ul><li>B.Sc in Computer Science &amp; Engineering from any renowned university.</li></ul>\n",
       "</div>\n",
       "</div>\n",
       "</div>\n",
       "</div>\n",
       "</div>\n",
       "<div class=\"col-sm-12\">\n",
       "<div class=\"row\">\n",
       "<div class=\"col-sm-9\">\n",
       "<div class=\"exp-text\">\n",
       "<div class=\"row\">\n",
       "<div class=\"col-sm-12\">\n",
       "<div class=\"exp-text-d\">\n",
       "<img alt=\"Experience required\" src=\"images/Exp_brief.svg\"/>\n",
       "                                                            0 to 4 year(s)\n",
       "                                                        </div>\n",
       "</div>\n",
       "</div>\n",
       "</div>\n",
       "</div>\n",
       "<div class=\"col-sm-3\">\n",
       "<div class=\"dead-text\">\n",
       "<div class=\"dead-text-s\"><img alt=\"Deadline for apply the job\" src=\"images/Calendar-deline.svg\"/> Deadline: </div>\n",
       "<div class=\"dead-text-d\">\n",
       "<strong>26 Jan</strong> 2022\n",
       "                                                </div>\n",
       "</div>\n",
       "</div>\n",
       "</div>\n",
       "</div>\n",
       "</div>\n",
       "</div>"
      ]
     },
     "execution_count": 50,
     "metadata": {},
     "output_type": "execute_result"
    }
   ],
   "source": [
    "page.find('div', class_='sout-jobs-wrapper')"
   ]
  },
  {
   "cell_type": "code",
   "execution_count": null,
   "metadata": {},
   "outputs": [],
   "source": [
    "page.findAll('div', class_='quote')"
   ]
  },
  {
   "cell_type": "code",
   "execution_count": null,
   "metadata": {},
   "outputs": [],
   "source": [
    "quotes = page.findAll('div', class_='quote')"
   ]
  },
  {
   "cell_type": "code",
   "execution_count": null,
   "metadata": {},
   "outputs": [],
   "source": [
    "tags = [tag.string for tag in page.find('div', class_='quote').findAll('a', class_='tag')]\n",
    "tags"
   ]
  },
  {
   "cell_type": "code",
   "execution_count": null,
   "metadata": {},
   "outputs": [],
   "source": [
    "Quotes = []\n",
    "def extractPage(page):\n",
    "    quotes = page.findAll('div', class_='quote')\n",
    "    for quote in quotes:\n",
    "        q = quote.span.string\n",
    "        author = quote.small.string\n",
    "        tags = [tag.string for tag in quote.findAll('a', class_='tag')]\n",
    "        Quotes.append([q, author, tags])"
   ]
  },
  {
   "cell_type": "code",
   "execution_count": null,
   "metadata": {},
   "outputs": [],
   "source": [
    "Quotes[0]"
   ]
  },
  {
   "cell_type": "code",
   "execution_count": null,
   "metadata": {},
   "outputs": [],
   "source": [
    "'https://quotes.toscrape.com'+page.find('li', class_='next').a.attrs['href']"
   ]
  },
  {
   "cell_type": "code",
   "execution_count": null,
   "metadata": {},
   "outputs": [],
   "source": [
    "url = 'https://quotes.toscrape.com'\n",
    "while True:\n",
    "    res = requests.get(url)\n",
    "    page = BeautifulSoup(res.content, 'lxml')\n",
    "    extractPage(page)\n",
    "    try:\n",
    "        url = 'https://quotes.toscrape.com'+page.find('li', class_='next').a.attrs['href']\n",
    "        print(url)\n",
    "    except AttributeError as e:\n",
    "        print('There are No pages left')\n",
    "        break"
   ]
  },
  {
   "cell_type": "code",
   "execution_count": null,
   "metadata": {},
   "outputs": [],
   "source": [
    "Quotes[-1]"
   ]
  },
  {
   "cell_type": "code",
   "execution_count": null,
   "metadata": {},
   "outputs": [],
   "source": [
    "import csv\n",
    "with open('Quotes.csv', mode='w', newline='', encoding='utf-8') as f:\n",
    "    writer = csv.writer(f, delimiter='|')\n",
    "    writer.writerow(['Quote', 'Author', 'Tags'])\n",
    "    writer.writerows(Quotes)"
   ]
  },
  {
   "cell_type": "code",
   "execution_count": null,
   "metadata": {},
   "outputs": [],
   "source": []
  }
 ],
 "metadata": {
  "interpreter": {
   "hash": "14a336a61cfaefff504b47e2b8e6e50961f0feafa7b211f8ff23081790c52144"
  },
  "kernelspec": {
   "display_name": "Python 3.9.7 64-bit",
   "name": "python3"
  },
  "language_info": {
   "codemirror_mode": {
    "name": "ipython",
    "version": 3
   },
   "file_extension": ".py",
   "mimetype": "text/x-python",
   "name": "python",
   "nbconvert_exporter": "python",
   "pygments_lexer": "ipython3",
   "version": "3.9.7"
  },
  "orig_nbformat": 4
 },
 "nbformat": 4,
 "nbformat_minor": 2
}
